{
 "cells": [
  {
   "cell_type": "markdown",
   "metadata": {},
   "source": [
    "### Exercise 1\n",
    "Ask a user for 5 names and place each one in to a list called <i>names</i>. Then, print <i>names</i>."
   ]
  },
  {
   "cell_type": "code",
   "execution_count": 2,
   "metadata": {},
   "outputs": [
    {
     "name": "stdout",
     "output_type": "stream",
     "text": [
      "enter the name :Rose \n",
      "enter the name :Christ\n",
      "enter the name :Trinity\n",
      "enter the name :Lola\n",
      "enter the name :Jabary\n"
     ]
    }
   ],
   "source": [
    "n1=input(\"enter the name :\")\n",
    "n2=input(\"enter the name :\")\n",
    "n3=input(\"enter the name :\")\n",
    "n4=input(\"enter the name :\")\n",
    "n5=input(\"enter the name :\")\n"
   ]
  },
  {
   "cell_type": "code",
   "execution_count": 3,
   "metadata": {},
   "outputs": [
    {
     "name": "stdout",
     "output_type": "stream",
     "text": [
      "['Rose ', 'Christ', 'Trinity', 'Lola', 'Jabary']\n"
     ]
    }
   ],
   "source": [
    "names=[n1,n2,n3,n4,n5]\n",
    "print(names)"
   ]
  },
  {
   "cell_type": "markdown",
   "metadata": {},
   "source": [
    "### Exercise 2\n",
    "Print out a randomly selected name in the names list."
   ]
  },
  {
   "cell_type": "code",
   "execution_count": 8,
   "metadata": {},
   "outputs": [
    {
     "data": {
      "text/plain": [
       "'Lola'"
      ]
     },
     "execution_count": 8,
     "metadata": {},
     "output_type": "execute_result"
    }
   ],
   "source": [
    "import random as rand\n",
    "x=rand.randint(0,4)\n",
    "names[x]"
   ]
  },
  {
   "cell_type": "markdown",
   "metadata": {},
   "source": [
    "### Exercise 3\n",
    "\n",
    "Ask a user for a specific color and store that value into a variable. If the answer is gray, print \"You found Victor's favorite color!\". If the answer is anything besides gray, print \"[color name] is not Victor's favorite color.\""
   ]
  },
  {
   "cell_type": "code",
   "execution_count": 11,
   "metadata": {},
   "outputs": [
    {
     "name": "stdout",
     "output_type": "stream",
     "text": [
      "enter the colorgray\n",
      "you found vistor favorite color!\n"
     ]
    }
   ],
   "source": [
    "color=input(\"enter the color\")\n",
    "if color ==\"gray\":\n",
    "    print(\"you found vistor favorite color!\")\n",
    "else:\n",
    "    print(f\"{color} is not victor favorite color\")"
   ]
  },
  {
   "cell_type": "code",
   "execution_count": 13,
   "metadata": {},
   "outputs": [
    {
     "name": "stdout",
     "output_type": "stream",
     "text": [
      "enter the colorgreen\n",
      "green is not victor favorite color\n"
     ]
    }
   ],
   "source": [
    "color=input(\"enter the color\")\n",
    "if color ==\"gray\":\n",
    "    print(\"you found vistor favorite color!\")\n",
    "else:\n",
    "    print(f\"{color} is not victor favorite color\")"
   ]
  },
  {
   "cell_type": "markdown",
   "metadata": {},
   "source": [
    "### Exercise 4\n",
    "Ask for an exam score and store that number. If the number is greater than 100, then print out 'You cannot have an exam score higher than 100'. If the number doesn't exceeed 100 but is greater than or equal to 75, then print out 'You did great on your exam!'. Otherwise if they scored lower than 75, then print out 'You need to study harder'."
   ]
  },
  {
   "cell_type": "code",
   "execution_count": 17,
   "metadata": {},
   "outputs": [
    {
     "name": "stdout",
     "output_type": "stream",
     "text": [
      "enter the score :10\n",
      "you need to study harder\n"
     ]
    }
   ],
   "source": [
    "score=int(input(\"enter the score :\"))\n",
    "if score > 100:\n",
    "    print(\"you cannot have the exam score higher than 100\")\n",
    "elif score >= 75 and score < 100:\n",
    "    print(\"you did great in your exam\")\n",
    "else:\n",
    "    print(\"you need to study harder\")"
   ]
  },
  {
   "cell_type": "code",
   "execution_count": 18,
   "metadata": {},
   "outputs": [
    {
     "name": "stdout",
     "output_type": "stream",
     "text": [
      "enter the score :150\n",
      "you cannot have the exam score higher than 100\n"
     ]
    }
   ],
   "source": [
    "score=int(input(\"enter the score :\"))\n",
    "if score > 100:\n",
    "    print(\"you cannot have the exam score higher than 100\")\n",
    "elif score < 100 and score >= 75:\n",
    "    print(\"you did great in your exam\")\n",
    "else:\n",
    "    print(\"you need to study harder\")"
   ]
  },
  {
   "cell_type": "markdown",
   "metadata": {},
   "source": [
    "### Exercise 5\n",
    "Write a function to convert a test score to a grade where  \n",
    " - 90 - 100: A\n",
    " - 80 - 89:  B\n",
    " - 70 - 79:  C\n",
    " - 60 - 69:  D\n",
    " - < 60   :  F\n",
    " \n",
    "If a score is not between 0 and 100 then print out an error message. In the program, ask the user for a score and then call your function. "
   ]
  },
  {
   "cell_type": "code",
   "execution_count": 22,
   "metadata": {},
   "outputs": [
    {
     "name": "stdout",
     "output_type": "stream",
     "text": [
      "enter the score :150\n",
      "F\n"
     ]
    }
   ],
   "source": [
    "def convert(score):\n",
    "    if score> 100 and score < 0:\n",
    "        print(\"error\")\n",
    "    if score>= 90 and score < 100:\n",
    "        print(\"A\")\n",
    "    elif score >= 80 and score < 89:\n",
    "        print(\"B\")\n",
    "    elif score >= 70 and score < 79:\n",
    "        print(\"C\")\n",
    "    elif score >= 60 and score < 69:\n",
    "        print(\"D\")\n",
    "    else:\n",
    "        print(\"F\")\n",
    "score=int(input(\"enter the score :\"))        \n",
    "convert(score)        "
   ]
  },
  {
   "cell_type": "code",
   "execution_count": null,
   "metadata": {},
   "outputs": [],
   "source": []
  }
 ],
 "metadata": {
  "kernelspec": {
   "display_name": "Python 3",
   "language": "python",
   "name": "python3"
  },
  "language_info": {
   "codemirror_mode": {
    "name": "ipython",
    "version": 3
   },
   "file_extension": ".py",
   "mimetype": "text/x-python",
   "name": "python",
   "nbconvert_exporter": "python",
   "pygments_lexer": "ipython3",
   "version": "3.8.8"
  }
 },
 "nbformat": 4,
 "nbformat_minor": 4
}
